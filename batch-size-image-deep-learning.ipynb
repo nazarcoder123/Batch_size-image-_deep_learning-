{
 "cells": [
  {
   "cell_type": "code",
   "execution_count": 1,
   "id": "06365308",
   "metadata": {
    "execution": {
     "iopub.execute_input": "2023-06-05T16:00:59.323590Z",
     "iopub.status.busy": "2023-06-05T16:00:59.322008Z",
     "iopub.status.idle": "2023-06-05T16:01:10.275549Z",
     "shell.execute_reply": "2023-06-05T16:01:10.274270Z"
    },
    "papermill": {
     "duration": 10.964729,
     "end_time": "2023-06-05T16:01:10.279271",
     "exception": false,
     "start_time": "2023-06-05T16:00:59.314542",
     "status": "completed"
    },
    "tags": []
   },
   "outputs": [
    {
     "name": "stderr",
     "output_type": "stream",
     "text": [
      "/opt/conda/lib/python3.10/site-packages/tensorflow_io/python/ops/__init__.py:98: UserWarning: unable to load libtensorflow_io_plugins.so: unable to open file: libtensorflow_io_plugins.so, from paths: ['/opt/conda/lib/python3.10/site-packages/tensorflow_io/python/ops/libtensorflow_io_plugins.so']\n",
      "caused by: ['/opt/conda/lib/python3.10/site-packages/tensorflow_io/python/ops/libtensorflow_io_plugins.so: undefined symbol: _ZN3tsl6StatusC1EN10tensorflow5error4CodeESt17basic_string_viewIcSt11char_traitsIcEENS_14SourceLocationE']\n",
      "  warnings.warn(f\"unable to load libtensorflow_io_plugins.so: {e}\")\n",
      "/opt/conda/lib/python3.10/site-packages/tensorflow_io/python/ops/__init__.py:104: UserWarning: file system plugins are not loaded: unable to open file: libtensorflow_io.so, from paths: ['/opt/conda/lib/python3.10/site-packages/tensorflow_io/python/ops/libtensorflow_io.so']\n",
      "caused by: ['/opt/conda/lib/python3.10/site-packages/tensorflow_io/python/ops/libtensorflow_io.so: undefined symbol: _ZTVN10tensorflow13GcsFileSystemE']\n",
      "  warnings.warn(f\"file system plugins are not loaded: {e}\")\n"
     ]
    }
   ],
   "source": [
    "import numpy as np\n",
    "from tensorflow import keras\n",
    "from tensorflow.keras.datasets import cifar10\n",
    "from tensorflow.keras.models import Sequential\n",
    "from tensorflow.keras.layers import Conv2D, MaxPooling2D, Flatten, Dense\n",
    "import matplotlib.pyplot as plt"
   ]
  },
  {
   "cell_type": "code",
   "execution_count": 2,
   "id": "c885a524",
   "metadata": {
    "execution": {
     "iopub.execute_input": "2023-06-05T16:01:10.290876Z",
     "iopub.status.busy": "2023-06-05T16:01:10.289838Z",
     "iopub.status.idle": "2023-06-05T16:01:25.808595Z",
     "shell.execute_reply": "2023-06-05T16:01:25.807504Z"
    },
    "papermill": {
     "duration": 15.527294,
     "end_time": "2023-06-05T16:01:25.811347",
     "exception": false,
     "start_time": "2023-06-05T16:01:10.284053",
     "status": "completed"
    },
    "tags": []
   },
   "outputs": [
    {
     "name": "stdout",
     "output_type": "stream",
     "text": [
      "Downloading data from https://www.cs.toronto.edu/~kriz/cifar-10-python.tar.gz\n",
      "170498071/170498071 [==============================] - 11s 0us/step\n"
     ]
    }
   ],
   "source": [
    "# Load the CIFAR-10 dataset\n",
    "(x_train, y_train), (x_test, y_test) = cifar10.load_data()"
   ]
  },
  {
   "cell_type": "code",
   "execution_count": 3,
   "id": "87e26305",
   "metadata": {
    "execution": {
     "iopub.execute_input": "2023-06-05T16:01:25.846328Z",
     "iopub.status.busy": "2023-06-05T16:01:25.845888Z",
     "iopub.status.idle": "2023-06-05T16:01:26.195109Z",
     "shell.execute_reply": "2023-06-05T16:01:26.193866Z"
    },
    "papermill": {
     "duration": 0.370026,
     "end_time": "2023-06-05T16:01:26.198129",
     "exception": false,
     "start_time": "2023-06-05T16:01:25.828103",
     "status": "completed"
    },
    "tags": []
   },
   "outputs": [],
   "source": [
    "# Normalize pixel values between 0 and 1\n",
    "x_train = x_train.astype('float32') / 255.0\n",
    "x_test = x_test.astype('float32') / 255.0"
   ]
  },
  {
   "cell_type": "code",
   "execution_count": 4,
   "id": "4545b59f",
   "metadata": {
    "execution": {
     "iopub.execute_input": "2023-06-05T16:01:26.235016Z",
     "iopub.status.busy": "2023-06-05T16:01:26.234421Z",
     "iopub.status.idle": "2023-06-05T16:01:26.243421Z",
     "shell.execute_reply": "2023-06-05T16:01:26.242267Z"
    },
    "papermill": {
     "duration": 0.030362,
     "end_time": "2023-06-05T16:01:26.246156",
     "exception": false,
     "start_time": "2023-06-05T16:01:26.215794",
     "status": "completed"
    },
    "tags": []
   },
   "outputs": [],
   "source": [
    "# Convert class labels to one-hot encoded vectors\n",
    "num_classes = 10\n",
    "y_train = keras.utils.to_categorical(y_train, num_classes)\n",
    "y_test = keras.utils.to_categorical(y_test, num_classes)"
   ]
  },
  {
   "cell_type": "code",
   "execution_count": 5,
   "id": "d2c081fe",
   "metadata": {
    "execution": {
     "iopub.execute_input": "2023-06-05T16:01:26.282527Z",
     "iopub.status.busy": "2023-06-05T16:01:26.282122Z",
     "iopub.status.idle": "2023-06-05T16:01:26.290114Z",
     "shell.execute_reply": "2023-06-05T16:01:26.288713Z"
    },
    "papermill": {
     "duration": 0.029816,
     "end_time": "2023-06-05T16:01:26.292678",
     "exception": false,
     "start_time": "2023-06-05T16:01:26.262862",
     "status": "completed"
    },
    "tags": []
   },
   "outputs": [],
   "source": [
    "# Define the deep learning model\n",
    "def create_model():\n",
    "    model = Sequential()\n",
    "    model.add(Conv2D(32, (3, 3), activation='relu', input_shape=(32, 32, 3)))\n",
    "    model.add(MaxPooling2D((2, 2)))\n",
    "    model.add(Conv2D(64, (3, 3), activation='relu'))\n",
    "    model.add(MaxPooling2D((2, 2)))\n",
    "    model.add(Flatten())\n",
    "    model.add(Dense(64, activation='relu'))\n",
    "    model.add(Dense(num_classes, activation='softmax'))\n",
    "    return model"
   ]
  },
  {
   "cell_type": "code",
   "execution_count": 6,
   "id": "28558e18",
   "metadata": {
    "execution": {
     "iopub.execute_input": "2023-06-05T16:01:26.328037Z",
     "iopub.status.busy": "2023-06-05T16:01:26.327019Z",
     "iopub.status.idle": "2023-06-05T16:01:26.335669Z",
     "shell.execute_reply": "2023-06-05T16:01:26.334571Z"
    },
    "papermill": {
     "duration": 0.029334,
     "end_time": "2023-06-05T16:01:26.338446",
     "exception": false,
     "start_time": "2023-06-05T16:01:26.309112",
     "status": "completed"
    },
    "tags": []
   },
   "outputs": [],
   "source": [
    "# Function to train and evaluate the model\n",
    "def train_and_evaluate_model(batch_size, input_size):\n",
    "    model = create_model()\n",
    "    model.compile(optimizer='adam', loss='categorical_crossentropy', metrics=['accuracy'])\n",
    "    model.summary()\n",
    "    history = model.fit(x_train, y_train, batch_size=batch_size, epochs=10, validation_data=(x_test, y_test))\n",
    "\n",
    "    # Plot the training and validation accuracy over epochs\n",
    "    plt.plot(history.history['accuracy'])\n",
    "    plt.plot(history.history['val_accuracy'])\n",
    "    plt.title('Model Accuracy')\n",
    "    plt.xlabel('Epoch')\n",
    "    plt.ylabel('Accuracy')\n",
    "    plt.legend(['Train', 'Test'], loc='upper left')\n",
    "    plt.show()"
   ]
  },
  {
   "cell_type": "code",
   "execution_count": 7,
   "id": "2f917e9a",
   "metadata": {
    "execution": {
     "iopub.execute_input": "2023-06-05T16:01:26.373833Z",
     "iopub.status.busy": "2023-06-05T16:01:26.372994Z",
     "iopub.status.idle": "2023-06-05T16:10:52.071504Z",
     "shell.execute_reply": "2023-06-05T16:10:52.070542Z"
    },
    "papermill": {
     "duration": 566.633397,
     "end_time": "2023-06-05T16:10:52.988471",
     "exception": false,
     "start_time": "2023-06-05T16:01:26.355074",
     "status": "completed"
    },
    "tags": []
   },
   "outputs": [
    {
     "name": "stdout",
     "output_type": "stream",
     "text": [
      "Model: \"sequential\"\n",
      "_________________________________________________________________\n",
      " Layer (type)                Output Shape              Param #   \n",
      "=================================================================\n",
      " conv2d (Conv2D)             (None, 30, 30, 32)        896       \n",
      "                                                                 \n",
      " max_pooling2d (MaxPooling2D  (None, 15, 15, 32)       0         \n",
      " )                                                               \n",
      "                                                                 \n",
      " conv2d_1 (Conv2D)           (None, 13, 13, 64)        18496     \n",
      "                                                                 \n",
      " max_pooling2d_1 (MaxPooling  (None, 6, 6, 64)         0         \n",
      " 2D)                                                             \n",
      "                                                                 \n",
      " flatten (Flatten)           (None, 2304)              0         \n",
      "                                                                 \n",
      " dense (Dense)               (None, 64)                147520    \n",
      "                                                                 \n",
      " dense_1 (Dense)             (None, 10)                650       \n",
      "                                                                 \n",
      "=================================================================\n",
      "Total params: 167,562\n",
      "Trainable params: 167,562\n",
      "Non-trainable params: 0\n",
      "_________________________________________________________________\n",
      "Epoch 1/10\n",
      "3125/3125 [==============================] - 57s 18ms/step - loss: 1.4086 - accuracy: 0.4960 - val_loss: 1.1436 - val_accuracy: 0.5921\n",
      "Epoch 2/10\n",
      "3125/3125 [==============================] - 52s 17ms/step - loss: 1.0461 - accuracy: 0.6342 - val_loss: 1.0073 - val_accuracy: 0.6494\n",
      "Epoch 3/10\n",
      "3125/3125 [==============================] - 57s 18ms/step - loss: 0.9192 - accuracy: 0.6807 - val_loss: 1.0160 - val_accuracy: 0.6539\n",
      "Epoch 4/10\n",
      "3125/3125 [==============================] - 55s 18ms/step - loss: 0.8375 - accuracy: 0.7106 - val_loss: 0.9001 - val_accuracy: 0.6936\n",
      "Epoch 5/10\n",
      "3125/3125 [==============================] - 51s 16ms/step - loss: 0.7720 - accuracy: 0.7312 - val_loss: 0.8897 - val_accuracy: 0.6970\n",
      "Epoch 6/10\n",
      "3125/3125 [==============================] - 47s 15ms/step - loss: 0.7142 - accuracy: 0.7515 - val_loss: 0.8906 - val_accuracy: 0.6994\n",
      "Epoch 7/10\n",
      "3125/3125 [==============================] - 49s 16ms/step - loss: 0.6625 - accuracy: 0.7673 - val_loss: 0.9525 - val_accuracy: 0.6907\n",
      "Epoch 8/10\n",
      "3125/3125 [==============================] - 56s 18ms/step - loss: 0.6218 - accuracy: 0.7827 - val_loss: 0.9025 - val_accuracy: 0.7038\n",
      "Epoch 9/10\n",
      "3125/3125 [==============================] - 53s 17ms/step - loss: 0.5836 - accuracy: 0.7950 - val_loss: 0.9449 - val_accuracy: 0.6983\n",
      "Epoch 10/10\n",
      "3125/3125 [==============================] - 51s 16ms/step - loss: 0.5457 - accuracy: 0.8085 - val_loss: 0.9570 - val_accuracy: 0.6972\n"
     ]
    },
    {
     "data": {
      "image/png": "[encoded data removed]",
      "text/plain": [
       "<Figure size 640x480 with 1 Axes>"
      ]
     },
     "metadata": {},
     "output_type": "display_data"
    }
   ],
   "source": [
    "\n",
    "# Experiment with different batch sizes and image input sizes\n",
    "batch_sizes = [16, 32, 64, 128]\n",
    "image_input_sizes = [(32, 32), (64, 64), (128, 128)]\n",
    "\n",
    "for batch_size in batch_sizes:\n",
    "    for input_size in image_input_sizes:\n",
    "        train_and_evaluate_model(batch_size, input_size)\n",
    "        break\n",
    "    break"
   ]
  },
  {
   "cell_type": "markdown",
   "id": "a2e42314",
   "metadata": {
    "papermill": {
     "duration": 0.93464,
     "end_time": "2023-06-05T16:10:54.745886",
     "exception": false,
     "start_time": "2023-06-05T16:10:53.811246",
     "status": "completed"
    },
    "tags": []
   },
   "source": [
    "## Explanation of the Project"
   ]
  },
  {
   "cell_type": "markdown",
   "id": "44bdb043",
   "metadata": {
    "papermill": {
     "duration": 0.843123,
     "end_time": "2023-06-05T16:10:56.414115",
     "exception": false,
     "start_time": "2023-06-05T16:10:55.570992",
     "status": "completed"
    },
    "tags": []
   },
   "source": [
    "1.The code begins by importing the necessary libraries and modules for the experiment, including TensorFlow and Keras.\n",
    "\n",
    "2.The CIFAR-10 dataset is loaded using the cifar10.load_data() function. It consists of 50,000 training images and 10,000 testing images,  classified into 10 different categories.\n",
    "\n",
    "3.The pixel values of the images are normalized between 0 and 1 by dividing them by 255. This is done to ensure that the input values are within a suitable range for the deep learning model.\n",
    "\n",
    "4.The class labels are converted into one-hot encoded vectors using the keras.utils.to_categorical() function. This transformation is  necessary to represent the class labels in a suitable format for training the model.\n",
    "\n",
    "5.The create_model() function defines the architecture of the deep learning model. It uses the Sequential model from Keras and adds convolutional and pooling layers, followed by fully connected layers. The final layer uses the softmax activation function to output class probabilities.\n",
    "\n",
    "6.The train_and_evaluate_model() function takes a batch size and an input size as arguments. Inside the function, a model is created using  the create_model() function. The model is compiled with the Adam optimizer and categorical cross-entropy loss. The summary of the model is  displayed.\n",
    "\n",
    "7.The model is trained using the fit() function, passing the training data, batch size, and the number of epochs. The validation data (test set) is also provided to monitor the model's performance during training.\n",
    "\n",
    "8.After training, the function plots the training and validation accuracy over epochs using Matplotlib.\n",
    "\n",
    "9.The main part of the code sets up the experiments to be conducted. It defines a list of batch sizes and a list of image input sizes to iterate over.\n",
    "\n",
    "10.It then iterates over the batch sizes and image input sizes using nested loops. For each combination, the train_and_evaluate_model()  function is called, passing the current batch size and image input size. The break statements ensure that only a single combination is evaluated.\n",
    "\n",
    "\n",
    "This code allows you to experiment with different batch sizes and image input sizes for the CIFAR-10 dataset. It trains and evaluates a deep learning model for each combination and plots the accuracy results. By modifying the lists of batch sizes and image input sizes, you can explore how these parameters impact the performance of the model."
   ]
  },
  {
   "cell_type": "markdown",
   "id": "61e184e6",
   "metadata": {
    "papermill": {
     "duration": 0.850009,
     "end_time": "2023-06-05T16:10:58.161874",
     "exception": false,
     "start_time": "2023-06-05T16:10:57.311865",
     "status": "completed"
    },
    "tags": []
   },
   "source": [
    "## Expalanation On Batch Size & Image Input size In DeepLearning"
   ]
  },
  {
   "cell_type": "markdown",
   "id": "c28d0303",
   "metadata": {
    "papermill": {
     "duration": 0.86495,
     "end_time": "2023-06-05T16:10:59.877381",
     "exception": false,
     "start_time": "2023-06-05T16:10:59.012431",
     "status": "completed"
    },
    "tags": []
   },
   "source": [
    "The batch size and image input size are important parameters in deep learning models that can significantly impact model training and performance.\n",
    "\n",
    "Batch Size:\n",
    "\n",
    "Batch size refers to the number of samples processed by the model in each training iteration.\n",
    "\n",
    "The batch size determines how many training samples are used before updating the model's weights.\n",
    "\n",
    "Larger batch sizes can make better use of hardware acceleration, such as GPUs, and can lead to faster training times.\n",
    "\n",
    "Smaller batch sizes provide more frequent updates to the model's weights and can potentially lead to better convergence.\n",
    "\n",
    "However, larger batch sizes may require more memory, so it's essential to consider the available resources when choosing the batch size.\n",
    "\n",
    "The optimal batch size can vary depending on the dataset and the model architecture, and it is often determined through experimentation.\n",
    "\n",
    "Larger batch sizes generally result in more stable gradients, but they may sacrifice some generalization performance compared to smaller batch sizes.\n",
    "\n",
    "Image Input Size:\n",
    "\n",
    "The image input size refers to the dimensions (width and height) of the input images provided to the model.\n",
    "\n",
    "Deep learning models typically expect images of a fixed size as input.\n",
    "\n",
    "The image input size directly affects the model's architecture, as the input layer's shape is defined based on the image dimensions.\n",
    "\n",
    "The image input size should be chosen based on the characteristics of the dataset and the model's requirements.\n",
    "\n",
    "Larger image input sizes can capture more details and potentially lead to better performance but require more computational resources and memory.\n",
    "\n",
    "Smaller image input sizes may result in faster training and inference times but can also lead to loss of important details.\n",
    "\n",
    "It is important to consider the trade-off between performance and resource constraints when choosing the image input size.\n",
    "\n",
    "In some cases, images may need to be resized or cropped to fit the desired input size, which can impact the data and introduce some distortions.\n",
    "\n",
    "Example:\n",
    "\n",
    "Let's consider the task of image classification on the CIFAR-10 dataset, which consists of 50,000 training images and 10,000 test images of size 32x32 pixels.\n",
    "\n",
    "\n",
    "Batch Size:\n",
    "\n",
    "If we set the batch size to 32, it means that the model will process 32 images in each training iteration.\n",
    "With a larger batch size, such as 128, the model will process more images in each iteration, potentially leading to faster training.\n",
    "However, larger batch sizes may require more memory, and if the available memory is limited, a smaller batch size might be necessary.\n",
    "Experimentation can help determine the optimal batch size for the specific dataset and model architecture.\n",
    "\n",
    "\n",
    "Image Input Size:\n",
    "\n",
    "The CIFAR-10 dataset images have a size of 32x32 pixels.\n",
    "If we decide to resize the images to 224x224 pixels, we are increasing the image input size.\n",
    "The larger input size can capture more details from the images, potentially improving the model's performance.\n",
    "However, resizing the images also introduces some distortions and may increase the computational and memory requirements.\n",
    "Alternatively, we could choose to work with the original image size of 32x32 pixels, which may lead to faster training and inference but could potentially lose some details present in the larger images.\n",
    "\n",
    "\n",
    "In summary, the batch size and image input size are important parameters that need to be carefully chosen based on the available resources, model requirements, and dataset characteristics. Experimentation and evaluation of different settings can help determine the optimal values for these parameters."
   ]
  }
 ],
 "metadata": {
  "kernelspec": {
   "display_name": "Python 3",
   "language": "python",
   "name": "python3"
  },
  "language_info": {
   "codemirror_mode": {
    "name": "ipython",
    "version": 3
   },
   "file_extension": ".py",
   "mimetype": "text/x-python",
   "name": "python",
   "nbconvert_exporter": "python",
   "pygments_lexer": "ipython3",
   "version": "3.10.10"
  },
  "papermill": {
   "default_parameters": {},
   "duration": 619.352766,
   "end_time": "2023-06-05T16:11:04.131805",
   "environment_variables": {},
   "exception": null,
   "input_path": "__notebook__.ipynb",
   "output_path": "__notebook__.ipynb",
   "parameters": {},
   "start_time": "2023-06-05T16:00:44.779039",
   "version": "2.4.0"
  }
 },
 "nbformat": 4,
 "nbformat_minor": 5
}
